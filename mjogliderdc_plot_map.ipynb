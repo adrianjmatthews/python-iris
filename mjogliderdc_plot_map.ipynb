{
 "cells": [
  {
   "cell_type": "markdown",
   "metadata": {},
   "source": [
    "Recreates Figure 1 from Matthews et al. (2014) on diurnal warm layer using iris rather than cdat.\n",
    "\n",
    "Figure caption:  (a) Time-mean TRMM 3B42 precipitation rate\n",
    "  (colour shading; mm~d$^{-1}$) and SST (blue line contours; interval\n",
    "  1$^\\circ$C) over the study period of glider deployment during\n",
    "  CINDY/DYNAMO (1 October 2011 to 5 January 2012).  The box shows the\n",
    "  approximate location of the CINDY/DYNAMO study area.  The thick\n",
    "  white line along 78$^\\circ$50'E, between 1$^\\circ$30'S, and\n",
    "  4$^\\circ$S, shows the glider track. The white cross at 0$^\\circ$N,\n",
    "  80$^\\circ$E shows the location of the R/V Roger Revelle.  (b)\n",
    "  Time-longitude diagram of TRMM 3B42 precipitation rate\n",
    "  (mm~d$^{-1}$), averaged from 15$^\\circ$S to 15$^\\circ$N. The thick\n",
    "  black line shows the glider track.\n"
   ]
  },
  {
   "cell_type": "code",
   "execution_count": 1,
   "metadata": {
    "collapsed": false
   },
   "outputs": [
    {
     "data": {
      "text/plain": [
       "'Plot mean SST, precip during CINDY/DYNAMO Seaglider deployment.\\nAnd Hovmoller of TRMM precip.\\n'"
      ]
     },
     "execution_count": 1,
     "metadata": {},
     "output_type": "execute_result"
    }
   ],
   "source": [
    "\"\"\"Plot mean SST, precip during CINDY/DYNAMO Seaglider deployment.\n",
    "And Hovmoller of TRMM precip.\n",
    "\"\"\""
   ]
  },
  {
   "cell_type": "code",
   "execution_count": 2,
   "metadata": {
    "collapsed": false
   },
   "outputs": [
    {
     "name": "stdout",
     "output_type": "stream",
     "text": [
      "## Set parameters\n"
     ]
    }
   ],
   "source": [
    "print('## Set parameters')\n",
    "LON1=50. ; LON2= 110.; LAT1=-15.; LAT2=15.\n",
    "\n",
    "DIR1='C:/users/adrian/documents/data/ncdata/sstnoaa/'\n",
    "DIR2='C:/users/adrian/documents/data/ncdata/trmm/'\n"
   ]
  },
  {
   "cell_type": "code",
   "execution_count": 3,
   "metadata": {
    "collapsed": false
   },
   "outputs": [
    {
     "name": "stdout",
     "output_type": "stream",
     "text": [
      "## Import modules\n"
     ]
    }
   ],
   "source": [
    "print('## Import modules')\n",
    "import numpy\n",
    "import iris\n",
    "from iris.time import PartialDateTime\n",
    "import matplotlib.pyplot as plt\n",
    "import matplotlib.cm as mpl_cm\n",
    "import matplotlib.gridspec as gridspec\n",
    "import iris.plot as iplt\n",
    "import iris.quickplot as qplt\n",
    "import cartopy.crs as ccrs\n",
    "from cartopy.mpl.ticker import LongitudeFormatter, LatitudeFormatter\n",
    "import copy"
   ]
  },
  {
   "cell_type": "code",
   "execution_count": 4,
   "metadata": {
    "collapsed": false
   },
   "outputs": [
    {
     "name": "stdout",
     "output_type": "stream",
     "text": [
      "## Read data\n",
      "# Set constraints\n",
      "# Read mean SST\n",
      "# Read mean TRMM3B42\n"
     ]
    },
    {
     "name": "stderr",
     "output_type": "stream",
     "text": [
      "C:\\Users\\Adrian\\Anaconda2\\lib\\site-packages\\iris\\fileformats\\_pyke_rules\\compiled_krb\\fc_rules_cf_fc.py:1300: UserWarning: Ignoring netCDF variable u'latitude' invalid units u'degrees_north*'\n",
      "  warnings.warn(msg.encode('ascii', errors='backslashreplace'))\n",
      "C:\\Users\\Adrian\\Anaconda2\\lib\\site-packages\\iris\\fileformats\\_pyke_rules\\compiled_krb\\fc_rules_cf_fc.py:1300: UserWarning: Ignoring netCDF variable u'longitude' invalid units u'degrees_east\\ufffd*'\n",
      "  warnings.warn(msg.encode('ascii', errors='backslashreplace'))\n"
     ]
    }
   ],
   "source": [
    "print('## Read data')\n",
    "print('# Set constraints')\n",
    "lonconstraint=iris.Constraint(longitude=lambda cell: LON1<=cell<=LON2)\n",
    "latconstraint=iris.Constraint(latitude=lambda cell: LAT1<=cell<=LAT2)\n",
    "\n",
    "print('# Read mean SST')\n",
    "cube1=iris.load_cube(DIR1+'sst1_w_sg537_cindy3S4S.nc','sst')\n",
    "cube1a=iris.util.squeeze(cube1)\n",
    "cube1b=cube1a.extract(lonconstraint & latconstraint)\n",
    "\n",
    "print('# Read mean TRMM3B42')\n",
    "cube2=iris.load_cube(DIR2+'ppttrmm1_d_sg537_cindy3S4S.nc','ppttrmm')\n",
    "cube2a=iris.util.squeeze(cube2)\n",
    "cube2b=cube2a.extract(lonconstraint & latconstraint)\n"
   ]
  },
  {
   "cell_type": "code",
   "execution_count": 20,
   "metadata": {
    "collapsed": false
   },
   "outputs": [
    {
     "name": "stdout",
     "output_type": "stream",
     "text": [
      "## Convert TRMM precipitation from mm hr-1 to mm day-1\n",
      "('cube2b.max', 0.89655524)\n",
      "mm hr-1\n",
      "('cube2c.max', 21.517326)\n",
      "mm day-1\n"
     ]
    }
   ],
   "source": [
    "print('## Convert TRMM precipitation from mm hr-1 to mm day-1')\n",
    "print('cube2b.max',cube2b.data.max())\n",
    "print cube2b.units\n",
    "cube2c=cube2b*24.\n",
    "print('cube2c.max',cube2c.data.max())\n",
    "cube2c.units='mm day-1'\n",
    "print cube2c.units"
   ]
  },
  {
   "cell_type": "code",
   "execution_count": 18,
   "metadata": {
    "collapsed": false
   },
   "outputs": [
    {
     "name": "stdout",
     "output_type": "stream",
     "text": [
      "## Plot\n",
      "# Load a Cynthia Brewer pallette\n",
      "# Plot\n"
     ]
    }
   ],
   "source": [
    "print('## Plot')\n",
    "print('# Load a Cynthia Brewer pallette')\n",
    "#brewer_cmap=mpl_cm.get_cmap('brewer_RdBu_11')\n",
    "brewer_cmap=mpl_cm.get_cmap('brewer_Purples_09')\n",
    "\n",
    "print('# Plot')\n",
    "qplt.contourf(cube2c,5,cmap=brewer_cmap)\n",
    "qplt.show()"
   ]
  }
 ],
 "metadata": {
  "kernelspec": {
   "display_name": "Python 2",
   "language": "python",
   "name": "python2"
  },
  "language_info": {
   "codemirror_mode": {
    "name": "ipython",
    "version": 2
   },
   "file_extension": ".py",
   "mimetype": "text/x-python",
   "name": "python",
   "nbconvert_exporter": "python",
   "pygments_lexer": "ipython2",
   "version": "2.7.10"
  }
 },
 "nbformat": 4,
 "nbformat_minor": 0
}
