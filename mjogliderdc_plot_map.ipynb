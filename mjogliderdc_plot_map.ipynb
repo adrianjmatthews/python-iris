{
 "cells": [
  {
   "cell_type": "markdown",
   "metadata": {},
   "source": [
    "Recreates Figure 1 from Matthews et al. (2014) on diurnal warm layer using iris/matplotlib rather than cdat/vcs.\n",
    "\n",
    "Original figure at http://envam1.env.uea.ac.uk/matthewsetal2014.pdf\n",
    "\n",
    "Figure caption:  (a) Time-mean TRMM 3B42 precipitation rate\n",
    "  (colour shading; mm~d$^{-1}$) and SST (blue line contours; interval\n",
    "  1$^\\circ$C) over the study period of glider deployment during\n",
    "  CINDY/DYNAMO (1 October 2011 to 5 January 2012).  The box shows the\n",
    "  approximate location of the CINDY/DYNAMO study area.  The thick\n",
    "  white line along 78$^\\circ$50'E, between 1$^\\circ$30'S, and\n",
    "  4$^\\circ$S, shows the glider track. The white cross at 0$^\\circ$N,\n",
    "  80$^\\circ$E shows the location of the R/V Roger Revelle.  (b)\n",
    "  Time-longitude diagram of TRMM 3B42 precipitation rate\n",
    "  (mm~d$^{-1}$), averaged from 15$^\\circ$S to 15$^\\circ$N. The thick\n",
    "  black line shows the glider track.\n"
   ]
  },
  {
   "cell_type": "code",
   "execution_count": 1,
   "metadata": {
    "collapsed": false
   },
   "outputs": [
    {
     "data": {
      "text/plain": [
       "'Plot mean SST, precip during CINDY/DYNAMO Seaglider deployment.\\nAnd Hovmoller of TRMM precip.\\n'"
      ]
     },
     "execution_count": 1,
     "metadata": {},
     "output_type": "execute_result"
    }
   ],
   "source": [
    "\"\"\"Plot mean SST, precip during CINDY/DYNAMO Seaglider deployment.\n",
    "And Hovmoller of TRMM precip.\n",
    "\"\"\""
   ]
  },
  {
   "cell_type": "code",
   "execution_count": 2,
   "metadata": {
    "collapsed": false
   },
   "outputs": [
    {
     "name": "stdout",
     "output_type": "stream",
     "text": [
      "## Set parameters\n"
     ]
    }
   ],
   "source": [
    "print('## Set parameters')\n",
    "LON1=50. ; LON2= 110.; LAT1=-15.; LAT2=15.\n",
    "\n",
    "DIR1='C:/users/adrian/documents/data/ncdata/sstnoaa/'\n",
    "DIR2='C:/users/adrian/documents/data/ncdata/trmm/'\n"
   ]
  },
  {
   "cell_type": "code",
   "execution_count": 3,
   "metadata": {
    "collapsed": false
   },
   "outputs": [
    {
     "name": "stdout",
     "output_type": "stream",
     "text": [
      "## Import modules\n"
     ]
    }
   ],
   "source": [
    "print('## Import modules')\n",
    "import numpy as np\n",
    "import iris\n",
    "from iris.time import PartialDateTime\n",
    "import matplotlib as mpl\n",
    "import matplotlib.pyplot as plt\n",
    "import matplotlib.cm as mpl_cm\n",
    "import matplotlib.patches as patches\n",
    "import matplotlib.lines as lines\n",
    "#import matplotlib.gridspec as gridspec\n",
    "import iris.plot as iplt\n",
    "import iris.quickplot as qplt\n",
    "import cartopy.crs as ccrs\n",
    "#from cartopy.mpl.gridliner import LONGITUDE_FORMATTER, LATITUDE_FORMATTER\n",
    "from cartopy.mpl.ticker import LongitudeFormatter, LatitudeFormatter\n",
    "import datetime\n",
    "import LatLon"
   ]
  },
  {
   "cell_type": "code",
   "execution_count": 4,
   "metadata": {
    "collapsed": false
   },
   "outputs": [
    {
     "name": "stdout",
     "output_type": "stream",
     "text": [
      "## Read data\n",
      "# Set constraints\n",
      "# Read mean SST\n",
      "# Read mean TRMM3B42\n",
      "# Read TRMM3B42 Hovmoller\n"
     ]
    },
    {
     "name": "stderr",
     "output_type": "stream",
     "text": [
      "C:\\Users\\Adrian\\Anaconda2\\lib\\site-packages\\iris\\fileformats\\cf.py:1139: UserWarning: NetCDF default loading behaviour currently does not expose variables which define reference surfaces for dimensionless vertical coordinates as independent Cubes. This behaviour is deprecated in favour of automatic promotion to Cubes. To switch to the new behaviour, set iris.FUTURE.netcdf_promote to True.\n",
      "  warnings.warn(msg)\n",
      "C:\\Users\\Adrian\\Anaconda2\\lib\\site-packages\\iris\\fileformats\\_pyke_rules\\compiled_krb\\fc_rules_cf_fc.py:1304: UserWarning: Ignoring netCDF variable u'latitude' invalid units u'degrees_north*'\n",
      "  warnings.warn(msg.encode('ascii', errors='backslashreplace'))\n",
      "C:\\Users\\Adrian\\Anaconda2\\lib\\site-packages\\iris\\fileformats\\_pyke_rules\\compiled_krb\\fc_rules_cf_fc.py:1304: UserWarning: Ignoring netCDF variable u'longitude' invalid units u'degrees_east\\ufffd*'\n",
      "  warnings.warn(msg.encode('ascii', errors='backslashreplace'))\n"
     ]
    }
   ],
   "source": [
    "print('## Read data')\n",
    "print('# Set constraints')\n",
    "lonconstraint=iris.Constraint(longitude=lambda cell: LON1<=cell<=LON2)\n",
    "latconstraint=iris.Constraint(latitude=lambda cell: LAT1<=cell<=LAT2)\n",
    "timeconstraint=iris.Constraint(time=lambda cell: \n",
    "                               PartialDateTime(year=2011,month=10,day=1)<=cell<=PartialDateTime(year=2012,month=1,day=5))\n",
    "\n",
    "print('# Read mean SST')\n",
    "cube1=iris.load_cube(DIR1+'sst1_w_sg537_cindy3S4S.nc','sst')\n",
    "cube1a=iris.util.squeeze(cube1)\n",
    "cube1b=cube1a.extract(lonconstraint & latconstraint)\n",
    "\n",
    "print('# Read mean TRMM3B42')\n",
    "cube2=iris.load_cube(DIR2+'ppttrmm1_d_sg537_cindy3S4S.nc','ppttrmm')\n",
    "cube2a=iris.util.squeeze(cube2)\n",
    "cube2b=cube2a.extract(lonconstraint & latconstraint)\n",
    "\n",
    "print('# Read TRMM3B42 Hovmoller')\n",
    "cube3=iris.load(DIR2+'ppttrmm1_d_hov15S15N.nc')[0]\n",
    "cube3a=iris.util.squeeze(cube3)\n",
    "with iris.FUTURE.context(cell_datetime_objects=True):\n",
    "    cube3b=cube3a.extract(lonconstraint & timeconstraint)\n",
    "#print(cube3b.coord('time'))"
   ]
  },
  {
   "cell_type": "code",
   "execution_count": 5,
   "metadata": {
    "collapsed": false
   },
   "outputs": [
    {
     "name": "stdout",
     "output_type": "stream",
     "text": [
      "## Create dictionary of time labels\n",
      "('time_ticks', [734411.0, 734442.0, 734472.0, 734503.0])\n",
      "('time_labels', ['Oct', 'Nov', 'Dec', 'Jan'])\n"
     ]
    }
   ],
   "source": [
    "print('## Create dictionary of time labels')\n",
    "months3={1:'Jan', 2:'Feb', 3:'Mar', 4:'Apr', 5:'May', 6:'Jun', 7:'Jul', 8:'Aug', 9:'Sep', 10:'Oct', 11:'Nov', 12:'Dec'}\n",
    "times=cube3b.coord('time')\n",
    "points=times.points\n",
    "dates=times.units.num2date(points)\n",
    "# When plotting time axes, matplotlib assumes all time data has a fixed base time, of days since 0001-01-01 UTC, plus 1.\n",
    "# For data with a different base time, need to first convert numerical values to calendar dates, using the base units for \n",
    "time_ticks=[mpl.dates.date2num(xx) for xx in dates if xx.day==1]\n",
    "time_labels=[months3[xx.month] for xx in dates if xx.day==1]\n",
    "print('time_ticks',time_ticks)\n",
    "print('time_labels',time_labels)"
   ]
  },
  {
   "cell_type": "code",
   "execution_count": 6,
   "metadata": {
    "collapsed": false
   },
   "outputs": [
    {
     "name": "stdout",
     "output_type": "stream",
     "text": [
      "## Create formatted longitude and latitude labels\n",
      "([50.0, 60.0, 70.0, 80.0, 90.0, 100.0, 110.0], ['50$^\\\\circ$E', '60$^\\\\circ$E', '70$^\\\\circ$E', '80$^\\\\circ$E', '90$^\\\\circ$E', '100$^\\\\circ$E', '110$^\\\\circ$E'])\n",
      "([-10.0, 0.0, 10.0], ['10$^\\\\circ$S', '0$^\\\\circ$N', '10$^\\\\circ$N'])\n"
     ]
    }
   ],
   "source": [
    "print('## Create formatted longitude and latitude labels')\n",
    "label_int=10.\n",
    "lon_ticks=[ii for ii in np.arange(0,360+label_int,label_int) if LON1<=ii<=LON2]\n",
    "lon_labels=[LatLon.Longitude(ii).to_string(\"d%$^\\circ$%H\") for ii in lon_ticks]\n",
    "lat_ticks=[ii for ii in np.arange(-90,90+label_int,label_int) if LAT1<=ii<=LAT2]\n",
    "lat_labels= [LatLon.Latitude(ii).to_string(\"d%$^\\circ$%H\") for ii in lat_ticks]\n",
    "print(lon_ticks,lon_labels)\n",
    "print(lat_ticks,lat_labels)"
   ]
  },
  {
   "cell_type": "code",
   "execution_count": 7,
   "metadata": {
    "collapsed": false
   },
   "outputs": [
    {
     "name": "stdout",
     "output_type": "stream",
     "text": [
      "## Convert TRMM precipitation from mm hr-1 to mm day-1\n",
      "('cube2b.max', 0.89655524)\n",
      "mm hr-1\n",
      "('cube2c.max', 21.517326)\n",
      "mm day-1\n"
     ]
    }
   ],
   "source": [
    "print('## Convert TRMM precipitation from mm hr-1 to mm day-1')\n",
    "print('cube2b.max',cube2b.data.max())\n",
    "print cube2b.units\n",
    "cube2c=cube2b*24.\n",
    "cube3c=cube3b*24.\n",
    "print('cube2c.max',cube2c.data.max())\n",
    "cube2c.units='mm day-1'\n",
    "cube3c.units='mm day-1'\n",
    "print cube2c.units"
   ]
  },
  {
   "cell_type": "code",
   "execution_count": 8,
   "metadata": {
    "collapsed": false,
    "scrolled": true
   },
   "outputs": [
    {
     "name": "stdout",
     "output_type": "stream",
     "text": [
      "## Create overall figure\n"
     ]
    }
   ],
   "source": [
    "print('## Create overall figure')\n",
    "# Try using figsize with specific (width,height) sizes for eg 1x2 or 5x2[0][0] etc. and subplot\n",
    "fig=plt.figure(figsize=(18,9))"
   ]
  },
  {
   "cell_type": "code",
   "execution_count": 9,
   "metadata": {
    "collapsed": false
   },
   "outputs": [
    {
     "name": "stdout",
     "output_type": "stream",
     "text": [
      "## Plot\n",
      "# Load a Cynthia Brewer pallette\n"
     ]
    }
   ],
   "source": [
    "print('## Plot')\n",
    "print('# Load a Cynthia Brewer pallette')\n",
    "brewer_cmap1=mpl_cm.get_cmap('brewer_Purples_09')\n",
    "brewer_cmap2=mpl_cm.get_cmap('brewer_RdBu_11')"
   ]
  },
  {
   "cell_type": "code",
   "execution_count": 10,
   "metadata": {
    "collapsed": false
   },
   "outputs": [
    {
     "name": "stdout",
     "output_type": "stream",
     "text": [
      "## Left panel\n",
      "# Draw panel label\n",
      "# Draw box representing DYNAMO region\n",
      "# Draw line representing glider track\n",
      "('glider_lon', 78.83333333333333)\n",
      "# Plot an X at location of Roger Revelle\n"
     ]
    },
    {
     "data": {
      "text/plain": [
       "<matplotlib.text.Text at 0x1ddd58d0>"
      ]
     },
     "execution_count": 10,
     "metadata": {},
     "output_type": "execute_result"
    }
   ],
   "source": [
    "print('## Left panel')\n",
    "\n",
    "lon_formatter = LongitudeFormatter(zero_direction_label=True)\n",
    "lat_formatter = LatitudeFormatter()\n",
    "\n",
    "proj=ccrs.PlateCarree()\n",
    "axc=plt.subplot(121,projection=proj)        \n",
    "#axc=plt.subplot2grid((1,2),(0,0),projection=proj)        \n",
    "axc.coastlines(color='black',linewidth=3) # axc has to have been created with a projection from ccrs otherwise it has no\n",
    "          # coastlines method\n",
    "axc.tick_params(direction='out')\n",
    "axc.set_xticks(range(0,361,10),crs=proj)\n",
    "axc.set_yticks(range(-90,91,10),crs=proj)\n",
    "axc.xaxis.set_major_formatter(lon_formatter)\n",
    "axc.yaxis.set_major_formatter(lat_formatter)\n",
    "axc.gridlines()\n",
    "\n",
    "cs1=iplt.contourf(cube2c,levels=[5,7.5,10],extend='both',cmap=brewer_cmap1)\n",
    "cbar=plt.colorbar(cs1,orientation='horizontal',shrink=0.9,extendfrac='auto')\n",
    "cbar.ax.set_xlabel('mm day$^{-1}$')\n",
    "\n",
    "cs2=iplt.contour(cube1b,levels=np.arange(20,35,1),colors='r')\n",
    "plt.clabel(cs2,fmt='%2.1f',colors='r',fontsize=14)\n",
    "\n",
    "print('# Draw panel label')\n",
    "textstr='(a)'\n",
    "# these are matplotlib.patch.Patch properties\n",
    "props = dict(boxstyle='round', facecolor='wheat', alpha=1.0)\n",
    "# place a text box in upper left in axes coords\n",
    "axc.text(0.05, 0.95,textstr,transform=axc.transAxes,fontsize=14,\n",
    "        verticalalignment='top',bbox=props)\n",
    "\n",
    "print('# Draw box representing DYNAMO region')\n",
    "rect1=patches.Rectangle((70,-10),10,10,linewidth=3,fill=False,transform=proj)\n",
    "axc.add_patch(rect1)\n",
    "\n",
    "print('# Draw line representing glider track')\n",
    "glider_lon=78.+50./60.\n",
    "print('glider_lon',glider_lon)\n",
    "line1=lines.Line2D((glider_lon,glider_lon),(-4,-1.5),linewidth=3.0,color='white',transform=proj)\n",
    "axc.add_line(line1)\n",
    "\n",
    "print('# Plot an X at location of Roger Revelle')\n",
    "textstr='X'\n",
    "axc.text(80,0, textstr,transform=proj,fontsize=18,color='white',\n",
    "        verticalalignment='center',horizontalalignment='center')\n",
    "\n",
    "#iplt.show()"
   ]
  },
  {
   "cell_type": "code",
   "execution_count": 11,
   "metadata": {
    "collapsed": false
   },
   "outputs": [
    {
     "name": "stdout",
     "output_type": "stream",
     "text": [
      "# Right panel\n",
      "# Draw vertical line representing glider position\n",
      "('time1,time2', 734411.0, 734507.0)\n",
      "# Draw panel label\n"
     ]
    },
    {
     "name": "stderr",
     "output_type": "stream",
     "text": [
      "C:\\Users\\Adrian\\Anaconda2\\lib\\site-packages\\matplotlib\\artist.py:221: MatplotlibDeprecationWarning: This has been deprecated in mpl 1.5, please use the\n",
      "axes property.  A removal date has not been set.\n",
      "  warnings.warn(_get_axes_msg, mplDeprecation, stacklevel=1)\n",
      "C:\\Users\\Adrian\\Anaconda2\\lib\\site-packages\\numpy\\lib\\shape_base.py:431: FutureWarning: in the future np.array_split will retain the shape of arrays with a zero size, instead of replacing them by `array([])`, which always has a shape of (0,).\n",
      "  FutureWarning)\n"
     ]
    }
   ],
   "source": [
    "print('# Right panel')\n",
    "axc=plt.subplot(122)\n",
    "#axc=plt.subplot2grid((1,2),(0,1))\n",
    "\n",
    "cs1=iplt.contourf(cube3c,levels=[0,2.5,5,7.5,10,15,20],extend='max',cmap=brewer_cmap2)\n",
    "cbar=plt.colorbar(cs1,orientation='horizontal',shrink=0.9,extendfrac='auto')\n",
    "cbar.ax.set_xlabel('mm day$^{-1}$')\n",
    "\n",
    "axc.tick_params(direction='out')\n",
    "axc.set_xticks(lon_ticks)\n",
    "axc.set_xticklabels(lon_labels)\n",
    "axc.set_yticks(time_ticks)\n",
    "axc.set_yticklabels(time_labels)\n",
    "\n",
    "print('# Draw vertical line representing glider position')\n",
    "time1=mpl.dates.date2num(dates[0])\n",
    "time2=mpl.dates.date2num(dates[-1])\n",
    "print('time1,time2',time1,time2)\n",
    "line2=lines.Line2D((glider_lon,glider_lon),(time1,time2),linewidth=2.0,color='black')\n",
    "axc.add_line(line2)\n",
    "\n",
    "print('# Draw panel label')\n",
    "textstr='(b)'\n",
    "# place a text box in upper left in axes coords\n",
    "axc.text(0.05,0.95,textstr,transform=axc.transAxes,fontsize=14,\n",
    "        verticalalignment='top',bbox=props)\n",
    "\n",
    "iplt.show()"
   ]
  },
  {
   "cell_type": "code",
   "execution_count": 12,
   "metadata": {
    "collapsed": false
   },
   "outputs": [
    {
     "name": "stdout",
     "output_type": "stream",
     "text": [
      "## Save image\n"
     ]
    }
   ],
   "source": [
    "print('## Save image')\n",
    "imagefile='C:/Users/Adrian/Documents/data/fig1.png'\n",
    "plt.savefig(imagefile)"
   ]
  },
  {
   "cell_type": "code",
   "execution_count": null,
   "metadata": {
    "collapsed": true
   },
   "outputs": [],
   "source": []
  }
 ],
 "metadata": {
  "kernelspec": {
   "display_name": "Python 2",
   "language": "python",
   "name": "python2"
  },
  "language_info": {
   "codemirror_mode": {
    "name": "ipython",
    "version": 2
   },
   "file_extension": ".py",
   "mimetype": "text/x-python",
   "name": "python",
   "nbconvert_exporter": "python",
   "pygments_lexer": "ipython2",
   "version": "2.7.11"
  }
 },
 "nbformat": 4,
 "nbformat_minor": 0
}
