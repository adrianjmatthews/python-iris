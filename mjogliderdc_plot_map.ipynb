{
 "cells": [
  {
   "cell_type": "markdown",
   "metadata": {},
   "source": [
    "Recreates Figure 1 from Matthews et al. (2014) on diurnal warm layer using iris rather than cdat.\n",
    "\n",
    "Figure caption:  (a) Time-mean TRMM 3B42 precipitation rate\n",
    "  (colour shading; mm~d$^{-1}$) and SST (blue line contours; interval\n",
    "  1$^\\circ$C) over the study period of glider deployment during\n",
    "  CINDY/DYNAMO (1 October 2011 to 5 January 2012).  The box shows the\n",
    "  approximate location of the CINDY/DYNAMO study area.  The thick\n",
    "  white line along 78$^\\circ$50'E, between 1$^\\circ$30'S, and\n",
    "  4$^\\circ$S, shows the glider track. The white cross at 0$^\\circ$N,\n",
    "  80$^\\circ$E shows the location of the R/V Roger Revelle.  (b)\n",
    "  Time-longitude diagram of TRMM 3B42 precipitation rate\n",
    "  (mm~d$^{-1}$), averaged from 15$^\\circ$S to 15$^\\circ$N. The thick\n",
    "  black line shows the glider track.\n"
   ]
  },
  {
   "cell_type": "code",
   "execution_count": 1,
   "metadata": {
    "collapsed": false
   },
   "outputs": [
    {
     "data": {
      "text/plain": [
       "'Plot mean SST, precip during CINDY/DYNAMO Seaglider deployment.\\nAnd Hovmoller of TRMM precip.\\n'"
      ]
     },
     "execution_count": 1,
     "metadata": {},
     "output_type": "execute_result"
    }
   ],
   "source": [
    "\"\"\"Plot mean SST, precip during CINDY/DYNAMO Seaglider deployment.\n",
    "And Hovmoller of TRMM precip.\n",
    "\"\"\""
   ]
  },
  {
   "cell_type": "code",
   "execution_count": 2,
   "metadata": {
    "collapsed": false
   },
   "outputs": [
    {
     "name": "stdout",
     "output_type": "stream",
     "text": [
      "## Set parameters\n"
     ]
    }
   ],
   "source": [
    "print('## Set parameters')\n",
    "LON1=50. ; LON2= 110.; LAT1=-15.; LAT2=15.\n",
    "\n",
    "DIR1='C:/users/adrian/documents/data/ncdata/sstnoaa/'\n",
    "DIR2='C:/users/adrian/documents/data/ncdata/trmm/'\n"
   ]
  },
  {
   "cell_type": "code",
   "execution_count": 3,
   "metadata": {
    "collapsed": false
   },
   "outputs": [
    {
     "name": "stdout",
     "output_type": "stream",
     "text": [
      "## Import modules\n"
     ]
    }
   ],
   "source": [
    "print('## Import modules')\n",
    "import numpy as np\n",
    "import iris\n",
    "from iris.time import PartialDateTime\n",
    "import matplotlib.pyplot as plt\n",
    "import matplotlib.cm as mpl_cm\n",
    "import matplotlib.gridspec as gridspec\n",
    "import iris.plot as iplt\n",
    "import iris.quickplot as qplt\n",
    "import cartopy.crs as ccrs\n",
    "from cartopy.mpl.ticker import LongitudeFormatter, LatitudeFormatter"
   ]
  },
  {
   "cell_type": "code",
   "execution_count": 4,
   "metadata": {
    "collapsed": false
   },
   "outputs": [
    {
     "name": "stdout",
     "output_type": "stream",
     "text": [
      "## Read data\n",
      "# Set constraints\n",
      "# Read mean SST\n",
      "# Read mean TRMM3B42\n"
     ]
    },
    {
     "name": "stderr",
     "output_type": "stream",
     "text": [
      "C:\\Users\\Adrian\\Anaconda2\\lib\\site-packages\\iris\\fileformats\\_pyke_rules\\compiled_krb\\fc_rules_cf_fc.py:1300: UserWarning: Ignoring netCDF variable u'latitude' invalid units u'degrees_north*'\n",
      "  warnings.warn(msg.encode('ascii', errors='backslashreplace'))\n",
      "C:\\Users\\Adrian\\Anaconda2\\lib\\site-packages\\iris\\fileformats\\_pyke_rules\\compiled_krb\\fc_rules_cf_fc.py:1300: UserWarning: Ignoring netCDF variable u'longitude' invalid units u'degrees_east\\ufffd*'\n",
      "  warnings.warn(msg.encode('ascii', errors='backslashreplace'))\n"
     ]
    }
   ],
   "source": [
    "print('## Read data')\n",
    "print('# Set constraints')\n",
    "lonconstraint=iris.Constraint(longitude=lambda cell: LON1<=cell<=LON2)\n",
    "latconstraint=iris.Constraint(latitude=lambda cell: LAT1<=cell<=LAT2)\n",
    "\n",
    "print('# Read mean SST')\n",
    "cube1=iris.load_cube(DIR1+'sst1_w_sg537_cindy3S4S.nc','sst')\n",
    "cube1a=iris.util.squeeze(cube1)\n",
    "cube1b=cube1a.extract(lonconstraint & latconstraint)\n",
    "\n",
    "print('# Read mean TRMM3B42')\n",
    "cube2=iris.load_cube(DIR2+'ppttrmm1_d_sg537_cindy3S4S.nc','ppttrmm')\n",
    "cube2a=iris.util.squeeze(cube2)\n",
    "cube2b=cube2a.extract(lonconstraint & latconstraint)\n"
   ]
  },
  {
   "cell_type": "code",
   "execution_count": 5,
   "metadata": {
    "collapsed": false
   },
   "outputs": [
    {
     "name": "stdout",
     "output_type": "stream",
     "text": [
      "## Convert TRMM precipitation from mm hr-1 to mm day-1\n",
      "('cube2b.max', 0.89655524)\n",
      "mm hr-1\n",
      "('cube2c.max', 21.517326)\n",
      "mm day-1\n"
     ]
    }
   ],
   "source": [
    "print('## Convert TRMM precipitation from mm hr-1 to mm day-1')\n",
    "print('cube2b.max',cube2b.data.max())\n",
    "print cube2b.units\n",
    "cube2c=cube2b*24.\n",
    "print('cube2c.max',cube2c.data.max())\n",
    "cube2c.units='mm day-1'\n",
    "print cube2c.units"
   ]
  },
  {
   "cell_type": "code",
   "execution_count": 6,
   "metadata": {
    "collapsed": false
   },
   "outputs": [
    {
     "name": "stdout",
     "output_type": "stream",
     "text": [
      "## Create overall figure\n"
     ]
    }
   ],
   "source": [
    "print('## Create overall figure')\n",
    "fig=plt.figure(figsize=(10,8)) # sets overall figure size in inches"
   ]
  },
  {
   "cell_type": "code",
   "execution_count": 7,
   "metadata": {
    "collapsed": false
   },
   "outputs": [
    {
     "name": "stdout",
     "output_type": "stream",
     "text": [
      "## Create 2-d array of matplotlib axes\n",
      "nrow,ncol: 5 2\n",
      "width,height: 0.25 0.148\n"
     ]
    }
   ],
   "source": [
    "print('## Create 2-d array of matplotlib axes')\n",
    "# Set up a 2-d array of 1's and 0's to show which axes are to be used/created\n",
    "# This is because an empty axis is plotted when it is created (unlike vcs)\n",
    "# tt[0,0] is the top left axis\n",
    "# tt[nrow,ncol] is the bottom right axis\n",
    "tt=[[1,0],\n",
    "    [0,0],\n",
    "    [0,0],\n",
    "    [0,0],\n",
    "    [0,0]]\n",
    "nrow=len(tt)\n",
    "ncol=len(tt[0])\n",
    "print \"nrow,ncol:\",nrow,ncol\n",
    "lon_formatter = LongitudeFormatter(zero_direction_label=True)\n",
    "lat_formatter = LatitudeFormatter()\n",
    "#  World coordinates (0,0) is bottom left corner, (1,1) is top right\n",
    "deltax_left=0.05\n",
    "deltax=0.03\n",
    "deltax_right=0.05\n",
    "deltay_top=0.05\n",
    "deltay=0.04\n",
    "deltay_bottom=0.05\n",
    "width=(1.0-deltax_left-deltax_right-(ncol-1)*deltax)/ncol\n",
    "width=0.25\n",
    "height=(1.0-deltay_top-deltay_bottom-(nrow-1)*deltay)/nrow\n",
    "print \"width,height:\",width,height\n",
    "for irow in range(nrow):\n",
    "    for icol in range(ncol):\n",
    "        if tt[irow][icol]!=0:\n",
    "            left=deltax_left+icol*(width+deltax)\n",
    "            bottom=1.0-deltay_top-height-irow*(height+deltay)\n",
    "            axc=plt.axes([left,bottom,width,height],projection=ccrs.PlateCarree(central_longitude=180))        \n",
    "            #print irow,icol,left,bottom,width,height\n",
    "            #print axc.get_position()\n",
    "            axc.coastlines()\n",
    "            axc.set_xticks(range(0,361,10),crs=ccrs.PlateCarree())\n",
    "            axc.set_yticks(range(-90,91,10),crs=ccrs.PlateCarree())\n",
    "            axc.xaxis.set_major_formatter(lon_formatter)\n",
    "            axc.yaxis.set_major_formatter(lat_formatter)\n",
    "            tt[irow][icol]=axc"
   ]
  },
  {
   "cell_type": "code",
   "execution_count": 16,
   "metadata": {
    "collapsed": false
   },
   "outputs": [
    {
     "name": "stdout",
     "output_type": "stream",
     "text": [
      "## Plot\n",
      "# Load a Cynthia Brewer pallette\n",
      "# contourf precipitation\n",
      "# contour sst\n"
     ]
    }
   ],
   "source": [
    "print('## Plot')\n",
    "print('# Load a Cynthia Brewer pallette')\n",
    "#brewer_cmap=mpl_cm.get_cmap('brewer_RdBu_11')\n",
    "brewer_cmap=mpl_cm.get_cmap('brewer_Purples_09')\n",
    "\n",
    "print('# contourf precipitation')\n",
    "#plt.axes(tt[0][0])\n",
    "#plt.subplot(121)\n",
    "#axc=plt.axes(projection=ccrs.PlateCarree(central_longitude=180))        \n",
    "#axc.coastlines()\n",
    "#axc.set_xticks(range(0,361,10),crs=ccrs.PlateCarree())\n",
    "#axc.set_yticks(range(-90,91,10),crs=ccrs.PlateCarree())\n",
    "#axc.xaxis.set_major_formatter(lon_formatter)\n",
    "#axc.yaxis.set_major_formatter(lat_formatter)\n",
    "\n",
    "CS1=iplt.contourf(cube2c,levels=[5,7.5,10],extend='both',cmap=brewer_cmap)\n",
    "\n",
    "print('# contour sst')\n",
    "CS4=iplt.contour(cube1b,levels=np.arange(20,35,1),colors='r')\n",
    "plt.clabel(CS4,fmt='%2.1f',colors='r',fontsize=14)\n",
    "\n",
    "cbar=plt.colorbar(CS1,orientation='horizontal')\n",
    "cbar.ax.set_xlabel('mm day$^{-1}$')\n",
    "\n",
    "#plt.subplot(122)\n",
    "iplt.contour(cube1b,levels=np.arange(20,35,1),colors='r')\n",
    "\n",
    "\n",
    "iplt.show()\n"
   ]
  },
  {
   "cell_type": "code",
   "execution_count": 9,
   "metadata": {
    "collapsed": false
   },
   "outputs": [
    {
     "name": "stdout",
     "output_type": "stream",
     "text": [
      "## Save image\n"
     ]
    }
   ],
   "source": [
    "print('## Save image')\n",
    "imagefile='C:/Users/Adrian/Documents/data/fig1.png'\n",
    "#imagefile='Z:/home/tmp/tmp.eps'\n",
    "plt.savefig(imagefile)"
   ]
  },
  {
   "cell_type": "code",
   "execution_count": null,
   "metadata": {
    "collapsed": true
   },
   "outputs": [],
   "source": []
  }
 ],
 "metadata": {
  "kernelspec": {
   "display_name": "Python 2",
   "language": "python",
   "name": "python2"
  },
  "language_info": {
   "codemirror_mode": {
    "name": "ipython",
    "version": 2
   },
   "file_extension": ".py",
   "mimetype": "text/x-python",
   "name": "python",
   "nbconvert_exporter": "python",
   "pygments_lexer": "ipython2",
   "version": "2.7.10"
  }
 },
 "nbformat": 4,
 "nbformat_minor": 0
}
